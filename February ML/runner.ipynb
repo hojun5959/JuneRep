{
 "cells": [
  {
   "cell_type": "code",
   "execution_count": 1,
   "id": "ecffc392",
   "metadata": {},
   "outputs": [],
   "source": [
    "import papermill as pm\n",
    "from logger import logger"
   ]
  },
  {
   "cell_type": "markdown",
   "id": "4d873b54",
   "metadata": {},
   "source": [
    "Iterate through indices and execute each notebook"
   ]
  },
  {
   "cell_type": "code",
   "execution_count": null,
   "id": "54dee9f1",
   "metadata": {
    "scrolled": true
   },
   "outputs": [
    {
     "name": "stderr",
     "output_type": "stream",
     "text": [
      "2023-06-22 23:31:31,206 - Running notebook for: AAPL\n"
     ]
    },
    {
     "data": {
      "application/vnd.jupyter.widget-view+json": {
       "model_id": "d44a61542212415e8ce10fd52ce1f794",
       "version_major": 2,
       "version_minor": 0
      },
      "text/plain": [
       "Executing:   0%|          | 0/56 [00:00<?, ?cell/s]"
      ]
     },
     "metadata": {},
     "output_type": "display_data"
    },
    {
     "name": "stderr",
     "output_type": "stream",
     "text": [
      "2023-06-22 23:32:01,817 - Running notebook for: AMZN\n"
     ]
    },
    {
     "data": {
      "application/vnd.jupyter.widget-view+json": {
       "model_id": "20c9eba1ab004f2ca4b362240d1b348a",
       "version_major": 2,
       "version_minor": 0
      },
      "text/plain": [
       "Executing:   0%|          | 0/56 [00:00<?, ?cell/s]"
      ]
     },
     "metadata": {},
     "output_type": "display_data"
    },
    {
     "name": "stderr",
     "output_type": "stream",
     "text": [
      "2023-06-22 23:32:31,530 - Running notebook for: GOOG\n"
     ]
    },
    {
     "data": {
      "application/vnd.jupyter.widget-view+json": {
       "model_id": "cb8dd565fc5f4da8a61ed41d06c02046",
       "version_major": 2,
       "version_minor": 0
      },
      "text/plain": [
       "Executing:   0%|          | 0/56 [00:00<?, ?cell/s]"
      ]
     },
     "metadata": {},
     "output_type": "display_data"
    },
    {
     "name": "stderr",
     "output_type": "stream",
     "text": [
      "2023-06-22 23:33:00,926 - Running notebook for: META\n"
     ]
    },
    {
     "data": {
      "application/vnd.jupyter.widget-view+json": {
       "model_id": "38db4d3bc555408ea7d69346db6f4e11",
       "version_major": 2,
       "version_minor": 0
      },
      "text/plain": [
       "Executing:   0%|          | 0/56 [00:00<?, ?cell/s]"
      ]
     },
     "metadata": {},
     "output_type": "display_data"
    }
   ],
   "source": [
    "for index in ['AAPL', 'AMZN', 'GOOG', 'META', 'TSLA']:\n",
    "    logger.info('Running notebook for: {}'.format(index))\n",
    "    pm.execute_notebook(input_path = 'basic.ipynb', \n",
    "                        output_path = '../artifact_dir/notebooks/basic_{}.ipynb'.format(index), \n",
    "                        parameters = {'INDEX': index})"
   ]
  },
  {
   "cell_type": "code",
   "execution_count": null,
   "id": "0c92b684",
   "metadata": {},
   "outputs": [],
   "source": []
  }
 ],
 "metadata": {
  "kernelspec": {
   "display_name": "Python 3 (ipykernel)",
   "language": "python",
   "name": "python3"
  },
  "language_info": {
   "codemirror_mode": {
    "name": "ipython",
    "version": 3
   },
   "file_extension": ".py",
   "mimetype": "text/x-python",
   "name": "python",
   "nbconvert_exporter": "python",
   "pygments_lexer": "ipython3",
   "version": "3.10.9"
  }
 },
 "nbformat": 4,
 "nbformat_minor": 5
}
