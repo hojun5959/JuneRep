{
 "cells": [
  {
   "cell_type": "code",
   "execution_count": 1,
   "id": "2775f799",
   "metadata": {},
   "outputs": [],
   "source": [
    "import logging\n",
    "\n",
    "logger = logging.getLogger(__name__)\n",
    "logger.setLevel(logging.INFO)\n",
    "formatter = logging.Formatter('%(asctime)s - %(message)s')\n",
    "\n",
    "# create console handler and set level to info\n",
    "ch = logging.StreamHandler()\n",
    "ch.setFormatter(formatter)\n",
    "ch.setLevel(logging.INFO)\n",
    "\n",
    "# add ch to logger\n",
    "logger.addHandler(ch)"
   ]
  }
 ],
 "metadata": {
  "kernelspec": {
   "display_name": "Python 3 (ipykernel)",
   "language": "python",
   "name": "python3"
  },
  "language_info": {
   "codemirror_mode": {
    "name": "ipython",
    "version": 3
   },
   "file_extension": ".py",
   "mimetype": "text/x-python",
   "name": "python",
   "nbconvert_exporter": "python",
   "pygments_lexer": "ipython3",
   "version": "3.9.13"
  }
 },
 "nbformat": 4,
 "nbformat_minor": 5
}
